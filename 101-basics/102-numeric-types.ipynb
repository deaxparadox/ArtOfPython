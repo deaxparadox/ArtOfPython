{
 "cells": [
  {
   "cell_type": "markdown",
   "metadata": {},
   "source": [
    "# Numeric Types\n",
    "\n",
    "Python's clore objects set includes the usual: \n",
    "\n",
    "- *integers* that have not fractional part\n",
    "- *floating-points* number that contain fractional part\n",
    "- *complex* numbers with imaginary parts\n",
    "- *decimals* with fixed precision\n",
    "- *rationals* with numerator and denominator"
   ]
  },
  {
   "cell_type": "markdown",
   "metadata": {},
   "source": []
  },
  {
   "cell_type": "markdown",
   "metadata": {},
   "source": []
  }
 ],
 "metadata": {
  "language_info": {
   "name": "python"
  }
 },
 "nbformat": 4,
 "nbformat_minor": 2
}
