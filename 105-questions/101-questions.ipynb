{
 "cells": [
  {
   "cell_type": "code",
   "execution_count": 1,
   "metadata": {},
   "outputs": [],
   "source": [
    "from random import randint"
   ]
  },
  {
   "cell_type": "markdown",
   "metadata": {},
   "source": [
    "#### Aim: Create a list, by generate random number values in list using `randint()`"
   ]
  },
  {
   "cell_type": "code",
   "execution_count": 3,
   "metadata": {},
   "outputs": [
    {
     "name": "stdout",
     "output_type": "stream",
     "text": [
      "[4, 6, 55, 62, 42, 76, 14, 94, 49, 27]\n"
     ]
    }
   ],
   "source": [
    "# Generating random values using list comprehensions.\n",
    "l = [randint(1, 100) for _ in range(10)]\n",
    "print(l)"
   ]
  },
  {
   "cell_type": "code",
   "execution_count": 4,
   "metadata": {},
   "outputs": [],
   "source": [
    "# Generating random values using for loop.\n",
    "l = []\n",
    "for _ in range(10):\n",
    "    l.append(randint(1, 100))"
   ]
  },
  {
   "cell_type": "markdown",
   "metadata": {},
   "source": [
    "#### Aim: Find factorial of a any given no. input by user."
   ]
  },
  {
   "cell_type": "code",
   "execution_count": 5,
   "metadata": {},
   "outputs": [],
   "source": [
    "def factorial(num: int) -> int:\n",
    "    if num == 0 or num == 1:\n",
    "        return 1\n",
    "    return num * factorial(num-1)\n"
   ]
  },
  {
   "cell_type": "code",
   "execution_count": 6,
   "metadata": {},
   "outputs": [
    {
     "name": "stdout",
     "output_type": "stream",
     "text": [
      "479001600\n"
     ]
    }
   ],
   "source": [
    "# x = int(input().strip())\n",
    "x = 12\n",
    "print(factorial(x))"
   ]
  },
  {
   "cell_type": "markdown",
   "metadata": {},
   "source": [
    "#### Aim: Find fibonacci series"
   ]
  },
  {
   "cell_type": "code",
   "execution_count": 7,
   "metadata": {},
   "outputs": [],
   "source": [
    "def fibonacci(num: int) -> int:\n",
    "    if num == 0:\n",
    "        return 0\n",
    "    if num == 1:\n",
    "        return 1\n",
    "    return fibonacci(num-1) + fibonacci(num-2)"
   ]
  },
  {
   "cell_type": "code",
   "execution_count": 8,
   "metadata": {},
   "outputs": [
    {
     "name": "stdout",
     "output_type": "stream",
     "text": [
      "144\n"
     ]
    }
   ],
   "source": [
    "num = int(input())\n",
    "print(fibonacci(num))"
   ]
  },
  {
   "cell_type": "markdown",
   "metadata": {},
   "source": [
    "#### Aim: Print a matrix given by user and find transpose of it and print the transpose.\n"
   ]
  },
  {
   "cell_type": "code",
   "execution_count": 9,
   "metadata": {},
   "outputs": [],
   "source": [
    "# taking input from the user\n",
    "\n",
    "# matrix_type = list(map(int, input().split(\" \")))\n",
    "# matrix =  []\n",
    "# for i in range(matrix_type[0]):\n",
    "#     matrix.append([])\n",
    "#     for j in range(matrix_type[1]):\n",
    "#         matrix[i].append(int(input()))\n",
    "# print(matrix)"
   ]
  },
  {
   "cell_type": "code",
   "execution_count": 10,
   "metadata": {},
   "outputs": [
    {
     "name": "stdout",
     "output_type": "stream",
     "text": [
      "Original matrix: [[14, 1, 40], [4, 60, 74]]\n",
      "Transpose matrix: [[14, 4], [1, 60], [40, 74]]\n"
     ]
    }
   ],
   "source": [
    "matrix = [[randint(1, 100) for _ in range(3)], [randint(1, 100) for _ in range(3)]]\n",
    "print(f\"Original matrix: {matrix}\")\n",
    "column = len(matrix[0])\n",
    "row = len(matrix)\n",
    "transpose = []\n",
    "for i in range(column):\n",
    "    transpose.append([])\n",
    "    for j in matrix:\n",
    "        transpose[i].append(j[i])\n",
    "print(f\"Transpose matrix: {transpose}\")"
   ]
  },
  {
   "cell_type": "code",
   "execution_count": null,
   "metadata": {},
   "outputs": [],
   "source": []
  }
 ],
 "metadata": {
  "kernelspec": {
   "display_name": "artofai",
   "language": "python",
   "name": "python3"
  },
  "language_info": {
   "codemirror_mode": {
    "name": "ipython",
    "version": 3
   },
   "file_extension": ".py",
   "mimetype": "text/x-python",
   "name": "python",
   "nbconvert_exporter": "python",
   "pygments_lexer": "ipython3",
   "version": "3.11.6"
  }
 },
 "nbformat": 4,
 "nbformat_minor": 2
}
