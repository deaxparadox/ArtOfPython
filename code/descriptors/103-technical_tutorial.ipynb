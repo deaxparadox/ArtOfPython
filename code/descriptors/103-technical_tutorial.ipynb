{
 "cells": [
  {
   "cell_type": "markdown",
   "metadata": {},
   "source": [
    "# Technical Tutorials\n",
    "\n",
    "### Definition and Introductio\n",
    "\n",
    "A descriptor ia an attribute value that has one of the methods in the descriptor protocols. Those methods are `__get__()`, `__set__()` and `__delete__()`. If any of these methods are defined for an attribute, it is said to be a descriptor.\n",
    "\n",
    "The default behavior for attribute access is to get, set or delete the attribute from an object's dictionary. For instance, `a.x` has a lookup chain starting with `a.__dict__['x']`, then `type(x).__dict__['x']`, and continuig through the method resolution order of `type(a)`. If the look-up value is an object defining one of the descriptor methods, then Python may override the default behavior and invoke the descriptor method instead.\n",
    "\n",
    "\n",
    "#### Descriptor protocol\n",
    "\n",
    "`descr.__get__(self, obj, type=None)`\n",
    "\n",
    "`descr.__set__(self, obj, value)`\n",
    "\n",
    "`descr.__delete(self, obj)`\n",
    "\n",
    "If an object defines `__set__()` or `__delete__()`, it is considered a data descriptor. Descriptors that only define `__get__()` are called non-data descriptors.\n",
    "\n",
    "#### Descriptor precendence\n",
    "\n",
    "Data amd non-data descriptors differ in how overrides are calculated with respect to entries in an instance's dictionary. If an instance's dictionary has an entry with the same name as a data descriptor, the data descriptor takes precedence. If an instance's dictionary has an entry with the same name as non-data descriptor, the dictionary entry takes precedence.\n",
    "\n",
    "\n",
    "#### Read-only descriptor\n",
    "\n",
    "To make a read-only data descriptor, define both `__get__` and `__set__()` with the `__set__()` raising an `AttributeError` when called. Defining the `__set__()` method with an exception raising placeholder is enough to make it a data descriptor.\n",
    "\n"
   ]
  },
  {
   "cell_type": "markdown",
   "metadata": {},
   "source": [
    "#### Overview of descriptor invocation\n",
    "\n",
    "A descriptor can be called directly with `desc.__get__(obj)` or `desc.__get__(None, cls)`.\n",
    "\n",
    "But it is more common for a descriptor to be invokd automatically from attribute access.\n",
    "\n",
    "The expression `obj.x` mooks up the attribute `x` in the chain of namespaces for `obj`. If the search finds a descriptor outside of the instance `__dict__`, its `__get__()` method is invoked according to the precedence rulles listed below.\n",
    "\n",
    "#### Invocation from an instance\n",
    "\n",
    "Instance lookup scans through a chain of namespaces giving data descriptors the highest priority, followed by instance variables, then non-data descriptors, then class variables, and lastly `__getattr__()` if it is provided.\n",
    "\n",
    "If a descriptor is found for `a.x`, then it is invoked with: `desc.__get__(a, type(a))`.\n",
    "\n",
    "The logic for a dotted lookup is in `object.__getattribute__()`. Here is a pure Python equivalent."
   ]
  },
  {
   "cell_type": "code",
   "execution_count": null,
   "metadata": {},
   "outputs": [],
   "source": [
    "def find_name_in)mro(cls, name, default):\n",
    "    "
   ]
  }
 ],
 "metadata": {
  "kernelspec": {
   "display_name": "torch",
   "language": "python",
   "name": "python3"
  },
  "language_info": {
   "name": "python",
   "version": "3.12.4"
  }
 },
 "nbformat": 4,
 "nbformat_minor": 2
}
