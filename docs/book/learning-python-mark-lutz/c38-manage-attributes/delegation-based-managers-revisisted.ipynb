{
 "cells": [
  {
   "cell_type": "markdown",
   "metadata": {},
   "source": [
    "# Delegation-based managers revisited"
   ]
  },
  {
   "cell_type": "code",
   "execution_count": 1,
   "metadata": {},
   "outputs": [
    {
     "name": "stdout",
     "output_type": "stream",
     "text": [
      "Jones\n",
      "[Person: Sue Jones, 110000]\n",
      "Jones\n",
      "[Person: Tom Jones, 60000]\n"
     ]
    }
   ],
   "source": [
    "class Person:\n",
    "    def __init__(self, name, job=None, pay=0):\n",
    "        self.name = name\n",
    "        self.job = job\n",
    "        self.pay = pay\n",
    "    def lastName(self):\n",
    "        return self.name.split()[-1]\n",
    "    def giveRaise(self, percent):\n",
    "        self.pay = int(self.pay * (1 + percent))\n",
    "    def __repr__(self):\n",
    "        return '[Person: %s, %s]' % (self.name, self.pay)\n",
    "\n",
    "class Manager:\n",
    "    def __init__(self, name, pay):\n",
    "        self.person = Person(name, \"mgr\", pay)  # Embed a Person object\n",
    "    def giveRaise(self, percent, bonus=.10):\n",
    "        self.person.giveRaise(percent + bonus)  # Intercept and delegate\n",
    "    def __getattr__(self, attr):\n",
    "        return getattr(self.person, attr)       # Delegate all other attrs\n",
    "    def __repr__(self):\n",
    "        return str(self.person)             # Must overload again (in 3.X)\n",
    "\n",
    "sue = Person(\"Sue Jones\", job='dev', pay=100000)\n",
    "print(sue. lastName())\n",
    "sue.giveRaise(.10)\n",
    "print(sue)\n",
    "tom = Manager(\"Tom Jones\", 50000)       # Manager.__init__\n",
    "print(tom.lastName())                   # Manager.__getattr__ -> Person.lastName\n",
    "tom.giveRaise(.10)                      # Manager.giveRaise -> Person.giveRaise\n",
    "print(tom)                              # Manager.__repr__ -> Person.__repr__"
   ]
  },
  {
   "cell_type": "code",
   "execution_count": null,
   "metadata": {},
   "outputs": [],
   "source": []
  }
 ],
 "metadata": {
  "kernelspec": {
   "display_name": "py3124",
   "language": "python",
   "name": "python3"
  },
  "language_info": {
   "codemirror_mode": {
    "name": "ipython",
    "version": 3
   },
   "file_extension": ".py",
   "mimetype": "text/x-python",
   "name": "python",
   "nbconvert_exporter": "python",
   "pygments_lexer": "ipython3",
   "version": "3.12.4"
  }
 },
 "nbformat": 4,
 "nbformat_minor": 2
}
