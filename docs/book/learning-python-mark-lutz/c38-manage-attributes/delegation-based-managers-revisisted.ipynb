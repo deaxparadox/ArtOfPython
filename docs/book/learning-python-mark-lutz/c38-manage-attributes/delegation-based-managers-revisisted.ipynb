{
 "cells": [
  {
   "cell_type": "markdown",
   "metadata": {},
   "source": [
    "# Delegation-based managers revisited"
   ]
  },
  {
   "cell_type": "code",
   "execution_count": 2,
   "metadata": {},
   "outputs": [
    {
     "name": "stdout",
     "output_type": "stream",
     "text": [
      "Jones\n",
      "[Person: Sue Jones, 110000]\n",
      "Jones\n",
      "[Person: Tom Jones, 60000]\n"
     ]
    }
   ],
   "source": [
    "class Person:\n",
    "    def __init__(self, name, job=None, pay=0):\n",
    "        self.name = name\n",
    "        self.job = job\n",
    "        self.pay = pay\n",
    "    def lastName(self):\n",
    "        return self.name.split()[-1]\n",
    "    def giveRaise(self, percent):\n",
    "        self.pay = int(self.pay * (1 + percent))\n",
    "    def __repr__(self):\n",
    "        return '[Person: %s, %s]' % (self.name, self.pay)\n",
    "\n",
    "class Manager:\n",
    "    def __init__(self, name, pay):\n",
    "        self.person = Person(name, \"mgr\", pay)  # Embed a Person object\n",
    "    def giveRaise(self, percent, bonus=.10):\n",
    "        self.person.giveRaise(percent + bonus)  # Intercept and delegate\n",
    "    def __getattr__(self, attr):\n",
    "        return getattr(self.person, attr)       # Delegate all other attrs\n",
    "    def __repr__(self):\n",
    "        return str(self.person)             # Must overload again (in 3.X)\n",
    "\n",
    "sue = Person(\"Sue Jones\", job='dev', pay=100000)\n",
    "print(sue. lastName())\n",
    "sue.giveRaise(.10)\n",
    "print(sue)\n",
    "tom = Manager(\"Tom Jones\", 50000)       # Manager.__init__\n",
    "print(tom.lastName())                   # Manager.__getattr__ -> Person.lastName\n",
    "tom.giveRaise(.10)                      # Manager.giveRaise -> Person.giveRaise\n",
    "print(tom)                              # Manager.__repr__ -> Person.__repr__"
   ]
  },
  {
   "cell_type": "markdown",
   "metadata": {},
   "source": [
    "The wrapper class's `__repr__` is invoked, and it delegates to the embedded **Person** object's `__repr__`.\n",
    "\n",
    "Let's *delete* the `Manager.__repr__` method, then Python does not route its attribute fetch through the generic `__getattr__` interceptor. Instead, a default `__repr__` display method inherited from the class's implicit **object** superclass is looked up and run."
   ]
  },
  {
   "cell_type": "code",
   "execution_count": 3,
   "metadata": {},
   "outputs": [
    {
     "name": "stdout",
     "output_type": "stream",
     "text": [
      "Jones\n",
      "[Person: Sue Jones, 110000]\n",
      "Jones\n",
      "<__main__.Manager object at 0x7b1fb80210a0>\n"
     ]
    }
   ],
   "source": [
    "# Delete the Manager `__str__` method\n",
    "\n",
    "class Manager:\n",
    "    def __init__(self, name, pay):\n",
    "        self.person = Person(name, 'mgr', pay)      # Embed a Person object\n",
    "    def giveRaise(self, percent, bonus=.10):\n",
    "        self.person.giveRaise(percent + bonus)      # Intercept and delegate\n",
    "    def __getattr__(self, attr):\n",
    "        return getattr(self.person, attr)           # Delegate all other attrs\n",
    "    \n",
    "sue = Person(\"Sue Jones\", job='dev', pay=100000)\n",
    "print(sue. lastName())\n",
    "sue.giveRaise(.10)\n",
    "print(sue)\n",
    "tom = Manager(\"Tom Jones\", 50000)       # Manager.__init__\n",
    "print(tom.lastName())                   # Manager.__getattr__ -> Person.lastName\n",
    "tom.giveRaise(.10)                      # Manager.giveRaise -> Person.giveRaise\n",
    "print(tom)                              # Manager.__repr__ -> Person.__repr__"
   ]
  },
  {
   "cell_type": "markdown",
   "metadata": {},
   "source": [
    "### Switch to `__getattribute__`"
   ]
  },
  {
   "cell_type": "code",
   "execution_count": 4,
   "metadata": {},
   "outputs": [
    {
     "name": "stdout",
     "output_type": "stream",
     "text": [
      "Jones\n",
      "[Person: Sue Jones, 110000]\n",
      "** lastName\n",
      "** person\n",
      "Jones\n",
      "** giveRaise\n",
      "** person\n",
      "<__main__.Manager object at 0x7b1fb81e3d40>\n"
     ]
    }
   ],
   "source": [
    "# Replace `__getattr__` with `__getattribute__`\n",
    "\n",
    "class Manager:\n",
    "    def __init__(self, name, pay):\n",
    "        self.person = Person(name, 'mgr', pay)          # Embed a person object\n",
    "    def giveRaise(self, percent, bonus=.10):            # Intercept and delegate\n",
    "        self.person.giveRaise(percent+bonus)\n",
    "    def __getattribute__(self, attr):\n",
    "        print(\"**\", attr)\n",
    "        if attr in ['person', 'giveRaise']:\n",
    "            return object.__getattribute__(self, attr)      # Fetch my attrs\n",
    "        else:\n",
    "            return getattr(self.person, attr)               # Delefate all others\n",
    "\n",
    "   \n",
    "sue = Person(\"Sue Jones\", job='dev', pay=100000)\n",
    "print(sue.lastName())\n",
    "sue.giveRaise(.10)\n",
    "print(sue)\n",
    "tom = Manager(\"Tom Jones\", 50000)       \n",
    "print(tom.lastName())\n",
    "tom.giveRaise(.10)\n",
    "print(tom)        "
   ]
  },
  {
   "cell_type": "markdown",
   "metadata": {},
   "source": [
    "The `__getattribute__` gets called twice here for methods--once for the method name, and again for the **self.person** embedded object fetch. We could avoid that with a different coding, but we would have to redefine `__repr__` to catch printing"
   ]
  },
  {
   "cell_type": "code",
   "execution_count": 5,
   "metadata": {},
   "outputs": [
    {
     "name": "stdout",
     "output_type": "stream",
     "text": [
      "Jones\n",
      "[Person: Sue Jones, 110000]\n",
      "** lastName\n",
      "Jones\n",
      "** giveRaise\n",
      "[Person: Tom Jones, 60000]\n"
     ]
    }
   ],
   "source": [
    "# Code __getattribute__ differently to minimize extra calls\n",
    "\n",
    "class Manager:\n",
    "    def __init__(self, name, pay):\n",
    "        self.person = Person(name, 'mgr', pay)\n",
    "    def __getattribute__(self, name):\n",
    "        print(\"**\", name)\n",
    "        person = object.__getattribute__(self, 'person')\n",
    "        if name == 'giveRaise':\n",
    "            return lambda percent: person.giveRaise(percent+.10)\n",
    "        else:\n",
    "            return getattr(person, name)\n",
    "    def __repr__(self):\n",
    "        person = object.__getattribute__(self, 'person')\n",
    "        return str(person)\n",
    "    \n",
    "sue = Person(\"Sue Jones\", job='dev', pay=100000)\n",
    "print(sue.lastName())\n",
    "sue.giveRaise(.10)\n",
    "print(sue)\n",
    "tom = Manager(\"Tom Jones\", 50000)       \n",
    "print(tom.lastName())\n",
    "tom.giveRaise(.10)\n",
    "print(tom)      "
   ]
  },
  {
   "cell_type": "markdown",
   "metadata": {},
   "source": [
    "When this alternative runs, our object prints properly, but only because we've added an explicit `__repr__` in the wrapper--this attribute is still not routed to our generic attribute interception method.\n",
    "\n",
    "Delegation-based classes like **Manager** must redefine some operator overloading methods (like `__repr__` and `__str__`) to route them to embedded object in Python 3.X."
   ]
  }
 ],
 "metadata": {
  "kernelspec": {
   "display_name": "3.12.4",
   "language": "python",
   "name": "python3"
  },
  "language_info": {
   "codemirror_mode": {
    "name": "ipython",
    "version": 3
   },
   "file_extension": ".py",
   "mimetype": "text/x-python",
   "name": "python",
   "nbconvert_exporter": "python",
   "pygments_lexer": "ipython3",
   "version": "3.12.4"
  }
 },
 "nbformat": 4,
 "nbformat_minor": 2
}
