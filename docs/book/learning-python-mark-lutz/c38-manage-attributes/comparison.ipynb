{
 "cells": [
  {
   "cell_type": "markdown",
   "metadata": {},
   "source": [
    "# `__getattr__` and `__getattribute__` Compared\n",
    "\n",
    "To summarize the coding differences between `__getattr__` and `__getattribute__`, the following example uses both to implement three attributes--**attr1** is a class attribute, **attr2** is an instace attribute, and **attr3** is a virtual managed attribute computed when fetched:"
   ]
  },
  {
   "cell_type": "code",
   "execution_count": 1,
   "metadata": {},
   "outputs": [
    {
     "name": "stdout",
     "output_type": "stream",
     "text": [
      "1\n",
      "2\n",
      "Get: attr3\n",
      "3\n",
      "--------------------\n"
     ]
    }
   ],
   "source": [
    "class GetAttr:\n",
    "    attr1 = 1\n",
    "    def __init__(self):\n",
    "        self.attr2 = 2\n",
    "    def __getattr__(self, attr):                # On undefined attrs only\n",
    "        print(\"Get: \" + attr)                   # Not on attr1: inherited from class\n",
    "        if attr == \"attr3\":                     # Not on attr2: stored on instance\n",
    "            return 3\n",
    "        else:\n",
    "            raise AttributeError(attr)\n",
    "\n",
    "X = GetAttr()\n",
    "print(X.attr1)\n",
    "print(X.attr2)\n",
    "print(X.attr3)\n",
    "print(\"-\"*20)"
   ]
  },
  {
   "cell_type": "code",
   "execution_count": 2,
   "metadata": {},
   "outputs": [
    {
     "name": "stdout",
     "output_type": "stream",
     "text": [
      "Get: attr1\n",
      "1\n",
      "Get: attr2\n",
      "2\n",
      "Get: attr3\n",
      "3\n",
      "--------------------\n"
     ]
    }
   ],
   "source": [
    "class GetAttr:                                  # (object) needed in 2.X only\n",
    "    attr1 = 1\n",
    "    def __init__(self):\n",
    "        self.attr2 = 2\n",
    "    def __getattribute__(self, attr):           # On all attr fetches\n",
    "        print(\"Get: \" + attr)                   # Use superclass to avoid looping here\n",
    "        if attr == \"attr3\":\n",
    "            return 3\n",
    "        else:\n",
    "            return object.__getattribute__(self, attr)\n",
    "\n",
    "X = GetAttr()\n",
    "print(X.attr1)\n",
    "print(X.attr2)\n",
    "print(X.attr3)\n",
    "print(\"-\"*20)"
   ]
  },
  {
   "cell_type": "markdown",
   "metadata": {},
   "source": [
    "When run, the `__getattr__` version intercepts only **attr3** accesses, because it is undefined. The `__getattribute__` version, on the other hand, intercepts all attribute fetches and must route those it does not managed to the superclass fetcher to avoid loops.\n",
    "\n",
    "Although `__getattribute__` can catch more attributes fetch than `__getattr__`, in practice they often just variations on a theme--if attributes are not physically stored the two have the same effect."
   ]
  }
 ],
 "metadata": {
  "kernelspec": {
   "display_name": "py3124",
   "language": "python",
   "name": "python3"
  },
  "language_info": {
   "codemirror_mode": {
    "name": "ipython",
    "version": 3
   },
   "file_extension": ".py",
   "mimetype": "text/x-python",
   "name": "python",
   "nbconvert_exporter": "python",
   "pygments_lexer": "ipython3",
   "version": "3.12.4"
  }
 },
 "nbformat": 4,
 "nbformat_minor": 2
}
