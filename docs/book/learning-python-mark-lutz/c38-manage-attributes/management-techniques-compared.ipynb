{
 "cells": [
  {
   "cell_type": "markdown",
   "metadata": {},
   "source": [
    "# Management Techniques Compared\n",
    "\n",
    "To summarize the coding differences in all four attribute mangement schemes we've seen in this chapter, let's quickly step through a somewhat more comprehensize computed-attribute example using each technique, coded to run in either Python 3.X or 2.X.\n",
    "\n",
    "The first version uses *properties* to intercept and calculate attributes named **square** and **cube**. Notice how their base values are stored in names that start with an underscore, so they don't class with the names of the properties themselves:"
   ]
  },
  {
   "cell_type": "code",
   "execution_count": 5,
   "metadata": {},
   "outputs": [
    {
     "name": "stdout",
     "output_type": "stream",
     "text": [
      "9\n",
      "64\n",
      "25\n"
     ]
    }
   ],
   "source": [
    "# Two dynamically computed attributes with properties\n",
    "\n",
    "class Powers(object):                       # Need (object) in 2.X only\n",
    "    def __init__(self, square, cube):\n",
    "        self._square = square               # _square is the base value\n",
    "        self._cube = cube                   # square is the property name\n",
    "    \n",
    "    def getSquare(self):\n",
    "        return self._square ** 2\n",
    "    def setSquare(self, value):\n",
    "        self._square = value\n",
    "    square = property(getSquare, setSquare)\n",
    "    \n",
    "    def getCube(self):\n",
    "        return self._cube ** 3\n",
    "    cube = property(getCube)\n",
    "    \n",
    "X = Powers(3, 4)\n",
    "print(X.square)         # 3 ** 2 = 9\n",
    "print(X.cube)          # 4 ** 3 = 64\n",
    "X.square = 5\n",
    "print(X.square)         # 5 ** 2 = 25        "
   ]
  },
  {
   "cell_type": "markdown",
   "metadata": {},
   "source": [
    "To do the same with *descriptors*, we define the attributes with complete classes. Note that these descriptors store based values as intances state, so they must use leading underscores again so as not to clash with the names of descriptors; as we'll see in the final example of this chapter, we could avoid the renaming requirement by storing base values as descriptor state instead, but that doesn't as directly address data that must vary per client class instance:"
   ]
  },
  {
   "cell_type": "code",
   "execution_count": 6,
   "metadata": {},
   "outputs": [
    {
     "name": "stdout",
     "output_type": "stream",
     "text": [
      "9\n",
      "64\n",
      "25\n"
     ]
    }
   ],
   "source": [
    "# Same, but with descriptors (per-instance state)\n",
    "\n",
    "class DescSquare(object):\n",
    "    def __get__(self, instance, owner):\n",
    "        return instance._square ** 2\n",
    "    def __set__(self, instance, value):\n",
    "        instance._square = value\n",
    "\n",
    "class DescCube(object):\n",
    "    def __get__(self, instace, owner):\n",
    "        return instace._code ** 3\n",
    "    \n",
    "class Powers(object):                   # Need all (object) in 2.X only\n",
    "    square = DescSquare()\n",
    "    cube = DescCube()\n",
    "    def __init__(self, square, cube):\n",
    "        self._square = square           # \"self.square = square\" works too,\n",
    "        self._code = cube               # because it triggers desc __set__!\n",
    "        \n",
    "X = Powers(3, 4)\n",
    "print(X.square)\n",
    "print(X.cube)\n",
    "X.square = 5\n",
    "print(X.square)"
   ]
  },
  {
   "cell_type": "markdown",
   "metadata": {},
   "source": []
  }
 ],
 "metadata": {
  "kernelspec": {
   "display_name": "py3124",
   "language": "python",
   "name": "python3"
  },
  "language_info": {
   "codemirror_mode": {
    "name": "ipython",
    "version": 3
   },
   "file_extension": ".py",
   "mimetype": "text/x-python",
   "name": "python",
   "nbconvert_exporter": "python",
   "pygments_lexer": "ipython3",
   "version": "3.12.4"
  }
 },
 "nbformat": 4,
 "nbformat_minor": 2
}
