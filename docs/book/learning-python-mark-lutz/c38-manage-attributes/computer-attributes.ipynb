{
 "cells": [
  {
   "cell_type": "markdown",
   "metadata": {},
   "source": [
    "# Computed Attributes\n",
    "\n",
    "The following creates a virtual attribute X that runs a calculation when fetched:"
   ]
  },
  {
   "cell_type": "code",
   "execution_count": 2,
   "metadata": {},
   "outputs": [
    {
     "name": "stdout",
     "output_type": "stream",
     "text": [
      "9\n",
      "16\n",
      "1024\n"
     ]
    }
   ],
   "source": [
    "class AttrSquare:\n",
    "    def __init__(self, start):\n",
    "        self.value = start                  # Triggers __setattr__!\n",
    "    def __getattr__(self, attr):            # On undefined attr fetch\n",
    "        if attr == \"X\":\n",
    "            return self.value ** 2          # value is not undefined\n",
    "        else:\n",
    "            raise AttributeError(attr)\n",
    "    def __setattr__(self, attr, value):     # On all attr assignments\n",
    "        if attr == 'X':\n",
    "            attr = 'value'\n",
    "        self.__dict__[attr] = value\n",
    "        \n",
    "A = AttrSquare(3)                           # 2 instance of class with overloading\n",
    "B = AttrSquare(32)                          # Each has different state information\n",
    "\n",
    "print(A.X)                      # 3 ** 2\n",
    "A.X = 4\n",
    "print(A.X)                      # 4 ** 2\n",
    "print(B.X)"
   ]
  },
  {
   "cell_type": "markdown",
   "metadata": {},
   "source": [
    "Above script's mechanis are based on **generic attribute interception** methods.\n",
    "\n",
    "### Using `__getattribute__`\n",
    "\n",
    "Implementing the same above example using `__getattribute__` instead of `__getattr__`; the following replaces the fetch method with a `__getattribute__` and changes the `__setattr__` assignment method to avoid looping by using direct superclass method calls instead of `__dict__` keys:\n"
   ]
  },
  {
   "cell_type": "code",
   "execution_count": 4,
   "metadata": {},
   "outputs": [
    {
     "name": "stdout",
     "output_type": "stream",
     "text": [
      "9\n",
      "16\n",
      "1024\n"
     ]
    }
   ],
   "source": [
    "class AttrSquare:                           # Add (object) for 2.X\n",
    "    def __init__(self, start):\n",
    "        self.value = start                  # Triggers __setattr__!\n",
    "        \n",
    "    def __getattribute__(self, attr):       # On all attr fetches\n",
    "        if attr == \"X\":\n",
    "            return self.value ** 2          # Triggers __getattributes__ again!\n",
    "        else:\n",
    "            return object.__getattribute__(self, attr)\n",
    "    \n",
    "    def __setattr__(self, attr, value):     # On all attr assignments\n",
    "        if attr == 'X':\n",
    "            attr = 'value'\n",
    "        object.__setattr__(self, attr, value)\n",
    "        \n",
    "A = AttrSquare(3)                           # 2 instance of class with overloading\n",
    "B = AttrSquare(32)                          # Each has different state information\n",
    "\n",
    "print(A.X)                      # 3 ** 2\n",
    "A.X = 4\n",
    "print(A.X)                      # 4 ** 2\n",
    "print(B.X)"
   ]
  },
  {
   "cell_type": "markdown",
   "metadata": {},
   "source": [
    "When this version, is run, the results are the same again. Notice, though,, the implicit routing gonig on inside the class's methods:\n",
    "\n",
    "- **self.value=start** inside the constructor triggers `__setattr__`\n",
    "- **self.value** inside `__getattribute__` triggers `__getattribute__` again.\n",
    "\n",
    "In fact, the `__getattribute__` is run *twice* each time we fetch attribute **X**. This doesn't happen the `__getattr__` version, because the **value** attribute is not undefined. if you care about speed and want to avoid this, change `__getattribute__` to use the superclass to fetch **value** as well."
   ]
  },
  {
   "cell_type": "code",
   "execution_count": null,
   "metadata": {},
   "outputs": [],
   "source": [
    "def __getattribute__(self, attr):\n",
    "    if attr == \"X\":\n",
    "        return object.__getattribute__(self, 'value') ** 2"
   ]
  },
  {
   "cell_type": "markdown",
   "metadata": {},
   "source": [
    "Of cource, this still incurs a call to the superclass method, but not an additional recursive call before we get there. Add **print** calls to these methods to trace how and when they run."
   ]
  },
  {
   "cell_type": "markdown",
   "metadata": {},
   "source": []
  }
 ],
 "metadata": {
  "kernelspec": {
   "display_name": "py3124",
   "language": "python",
   "name": "python3"
  },
  "language_info": {
   "codemirror_mode": {
    "name": "ipython",
    "version": 3
   },
   "file_extension": ".py",
   "mimetype": "text/x-python",
   "name": "python",
   "nbconvert_exporter": "python",
   "pygments_lexer": "ipython3",
   "version": "3.12.4"
  }
 },
 "nbformat": 4,
 "nbformat_minor": 2
}
