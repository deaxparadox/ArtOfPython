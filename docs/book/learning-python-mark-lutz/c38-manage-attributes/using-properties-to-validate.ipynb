{
 "cells": [
  {
   "cell_type": "markdown",
   "metadata": {},
   "source": [
    "# Using Properties to validate\n",
    "\n",
    "Properties runs code automatically on attribute sccess, but are focused on a specific set of attributes; they cannot be used to intercept all attributes generically.\n",
    "\n",
    "Let understand with example, the attribute assignment inside the `__init__` constructor method trigger property setter methods too. When this method assigns to **self.name**, for example, it automatically invokes the **setName** method, which transforms the value and assigns it to an instance attribute called `__name` so it won't clash with the property's name.\n",
    "\n",
    "----------\n",
    "\n",
    "\n",
    "This renaming (sometimes called *name mangling*) is necessary because properties use common instance state and have none of their own.Data is stored in an attribute called `__name`, and the attribute called *name* is aleays a property, not data. The names like `__name` are known as *pseudoprivate* attributes, and are changed by Python to include the enclosing class's name when stored in the instance's namespace; here, this help the implementation-specific attriubutes distinct from others, including that of the property that manages them.\n",
    "\n",
    "The class manages attributes called **name**, **age**, and **acct**; allows the attribute **addr** to be accessed directly; provides a read-only attribute called **remain** that is entirely virtual and computed on demand."
   ]
  },
  {
   "cell_type": "code",
   "execution_count": 3,
   "metadata": {},
   "outputs": [
    {
     "ename": "AttributeError",
     "evalue": "'CardHolder' object has no attribute 'acctlen'",
     "output_type": "error",
     "traceback": [
      "\u001b[0;31m---------------------------------------------------------------------------\u001b[0m",
      "\u001b[0;31mAttributeError\u001b[0m                            Traceback (most recent call last)",
      "Cell \u001b[0;32mIn[3], line 46\u001b[0m\n\u001b[1;32m     43\u001b[0m \u001b[38;5;28;01mdef\u001b[39;00m \u001b[38;5;21mprintholder\u001b[39m(who: CardHolder):\n\u001b[1;32m     44\u001b[0m     \u001b[38;5;28mprint\u001b[39m(who\u001b[38;5;241m.\u001b[39macct, who\u001b[38;5;241m.\u001b[39mname, who\u001b[38;5;241m.\u001b[39mage, who\u001b[38;5;241m.\u001b[39mremain, who\u001b[38;5;241m.\u001b[39maddr, \u001b[38;5;28mset\u001b[39m\u001b[38;5;241m=\u001b[39m\u001b[38;5;124m\"\u001b[39m\u001b[38;5;124m / \u001b[39m\u001b[38;5;124m\"\u001b[39m)\n\u001b[0;32m---> 46\u001b[0m bob \u001b[38;5;241m=\u001b[39m \u001b[43mCardHolder\u001b[49m\u001b[43m(\u001b[49m\u001b[38;5;124;43m'\u001b[39;49m\u001b[38;5;124;43m1234-5678\u001b[39;49m\u001b[38;5;124;43m'\u001b[39;49m\u001b[43m,\u001b[49m\u001b[43m \u001b[49m\u001b[38;5;124;43m\"\u001b[39;49m\u001b[38;5;124;43mBob Smith\u001b[39;49m\u001b[38;5;124;43m\"\u001b[39;49m\u001b[43m,\u001b[49m\u001b[43m \u001b[49m\u001b[38;5;241;43m40\u001b[39;49m\u001b[43m,\u001b[49m\u001b[43m \u001b[49m\u001b[38;5;124;43m\"\u001b[39;49m\u001b[38;5;124;43m123 main set\u001b[39;49m\u001b[38;5;124;43m\"\u001b[39;49m\u001b[43m)\u001b[49m\n\u001b[1;32m     47\u001b[0m printholder(bob)\n",
      "Cell \u001b[0;32mIn[3], line 8\u001b[0m, in \u001b[0;36mCardHolder.__init__\u001b[0;34m(self, acct, name, age, addr)\u001b[0m\n\u001b[1;32m      7\u001b[0m \u001b[38;5;28;01mdef\u001b[39;00m \u001b[38;5;21m__init__\u001b[39m(\u001b[38;5;28mself\u001b[39m, acct, name, age, addr):\n\u001b[0;32m----> 8\u001b[0m     \u001b[38;5;28;43mself\u001b[39;49m\u001b[38;5;241;43m.\u001b[39;49m\u001b[43macct\u001b[49m \u001b[38;5;241m=\u001b[39m acct                        \u001b[38;5;66;03m# Instance data\u001b[39;00m\n\u001b[1;32m      9\u001b[0m     \u001b[38;5;28mself\u001b[39m\u001b[38;5;241m.\u001b[39mname \u001b[38;5;241m=\u001b[39m name                        \u001b[38;5;66;03m# These trigger prop setters too!\u001b[39;00m\n\u001b[1;32m     10\u001b[0m     \u001b[38;5;28mself\u001b[39m\u001b[38;5;241m.\u001b[39mage \u001b[38;5;241m=\u001b[39m age                          \u001b[38;5;66;03m# __X mangled to have class name\u001b[39;00m\n",
      "Cell \u001b[0;32mIn[3], line 33\u001b[0m, in \u001b[0;36mCardHolder.setAcct\u001b[0;34m(self, value)\u001b[0m\n\u001b[1;32m     31\u001b[0m \u001b[38;5;28;01mdef\u001b[39;00m \u001b[38;5;21msetAcct\u001b[39m(\u001b[38;5;28mself\u001b[39m, value):\n\u001b[1;32m     32\u001b[0m     value \u001b[38;5;241m=\u001b[39m value\u001b[38;5;241m.\u001b[39mreplace(\u001b[38;5;124m\"\u001b[39m\u001b[38;5;124m-\u001b[39m\u001b[38;5;124m\"\u001b[39m, \u001b[38;5;124m'\u001b[39m\u001b[38;5;124m'\u001b[39m)\n\u001b[0;32m---> 33\u001b[0m     \u001b[38;5;28;01mif\u001b[39;00m \u001b[38;5;28mlen\u001b[39m(value \u001b[38;5;241m!=\u001b[39m \u001b[38;5;28;43mself\u001b[39;49m\u001b[38;5;241;43m.\u001b[39;49m\u001b[43macctlen\u001b[49m):\n\u001b[1;32m     34\u001b[0m         \u001b[38;5;28;01mraise\u001b[39;00m \u001b[38;5;167;01mTypeError\u001b[39;00m(\u001b[38;5;124m\"\u001b[39m\u001b[38;5;124minvalid acct number\u001b[39m\u001b[38;5;124m\"\u001b[39m)\n\u001b[1;32m     35\u001b[0m     \u001b[38;5;28;01melse\u001b[39;00m:\n",
      "\u001b[0;31mAttributeError\u001b[0m: 'CardHolder' object has no attribute 'acctlen'"
     ]
    }
   ],
   "source": [
    "from typing import Annotated\n",
    "\n",
    "class CardHolder(object):\n",
    "    acctlen: Annotated[int, 8, \"An integer\"]\n",
    "    retireage: Annotated[float, 59.5, \"A float number\"]\n",
    "    \n",
    "    def __init__(self, acct, name, age, addr):\n",
    "        self.acct = acct                        # Instance data\n",
    "        self.name = name                        # These trigger prop setters too!\n",
    "        self.age = age                          # __X mangled to have class name\n",
    "        self.addr = addr                        # addr is not managed\n",
    "                                                # remain has no data\n",
    "                                                \n",
    "    def getName(self):\n",
    "        return self.__name\n",
    "    def setName(self, value):\n",
    "        value = value.lower().replace(\" \", \"_\")\n",
    "    name = property(getName, setName)\n",
    "    \n",
    "    def getAge(self):\n",
    "        return self.__age\n",
    "    def setAge(self, value):\n",
    "        if value < 0 or value > 150:\n",
    "            raise ValueError(\"invalid age\")\n",
    "        else:\n",
    "            self.__age = value\n",
    "    age = property(getAge, setAge)\n",
    "    \n",
    "    def getAcct(self):\n",
    "        return self.__acct[:-3] + '***'\n",
    "    def setAcct(self, value):\n",
    "        value = value.replace(\"-\", '')\n",
    "        if len(value != self.acctlen):\n",
    "            raise TypeError(\"invalid acct number\")\n",
    "        else:\n",
    "            self.__acct = value\n",
    "    acct = property(getAcct, setAcct)\n",
    "    \n",
    "    def remainGet(self):                        # Could be a method, not attr\n",
    "        return self.retireage - self.age        # Unless already using as attr\n",
    "    remain = property(remainGet)\n",
    "\n",
    "def printholder(who: CardHolder):\n",
    "    print(who.acct, who.name, who.age, who.remain, who.addr, set=\" / \")\n",
    "\n",
    "bob = CardHolder('1234-5678', \"Bob Smith\", 40, \"123 main set\")\n",
    "printholder(bob)"
   ]
  },
  {
   "cell_type": "code",
   "execution_count": null,
   "metadata": {},
   "outputs": [],
   "source": []
  },
  {
   "cell_type": "code",
   "execution_count": null,
   "metadata": {},
   "outputs": [],
   "source": [
    "# "
   ]
  },
  {
   "cell_type": "markdown",
   "metadata": {},
   "source": []
  }
 ],
 "metadata": {
  "kernelspec": {
   "display_name": "3.12.4",
   "language": "python",
   "name": "python3"
  },
  "language_info": {
   "codemirror_mode": {
    "name": "ipython",
    "version": 3
   },
   "file_extension": ".py",
   "mimetype": "text/x-python",
   "name": "python",
   "nbconvert_exporter": "python",
   "pygments_lexer": "ipython3",
   "version": "3.12.4"
  }
 },
 "nbformat": 4,
 "nbformat_minor": 2
}
