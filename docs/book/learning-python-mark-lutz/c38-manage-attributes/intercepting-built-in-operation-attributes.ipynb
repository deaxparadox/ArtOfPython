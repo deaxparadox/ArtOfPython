{
 "cells": [
  {
   "cell_type": "markdown",
   "metadata": {},
   "source": [
    "# Intercepting Built-in Operation Attributes\n",
    "\n",
    "`__getattr__` and `__getattribute__` for method-name attributes implicitly fetch by built-in operations, these methods may *not be run at all*. This means that operator overloading calls cannot be delegated to wrapped objects unless wrapper classes somehow redefine these methods themselves.\n",
    "\n",
    "For example, attribute fetchs for the `__str__`, `__add__`, and `__getitem__` methods run implicitly by printing, + expressions, and indexing, respectively,are not routed to the generic attribute interception methods in 3.X. Specifically:\n",
    "\n",
    "- In Python 3.X, *neither*, `__getattr__` nor `__getattribute__` is run for such attributes.\n",
    "- In Python 2.X classic classes, `__getattr__` *is* run for such attributes if they are undefined in the class.\n",
    "- In Python 2.X, `__getattribute__` is available for new-style classes only and works as it does in 3.X.\n",
    "\n",
    "In all Python 3.X classes (and 2.X new-style classes), there is no direct way to generically intercept built-in operations like printing and addition.\n",
    "\n",
    "Wrapper classes can work around this constraint by redefining all relevant operator overloading methods in the wrapper itself, in order to delegate calls. These extra methods can be added either manually, with tools, or by definition in and inheritance from common superclasses. This does, however, make object wrappers more work then they used to be when operator overloading methods are a part of a wrapped object's interface.\n",
    "\n",
    "The following example, tests various attribute types and built-in operations on intances of classes containing `__getattr__` and `__getattribute__` methods:"
   ]
  },
  {
   "cell_type": "code",
   "execution_count": 3,
   "metadata": {},
   "outputs": [],
   "source": [
    "class GetAttr:\n",
    "    eggs = 88\n",
    "    def __init__(self):             # eggs stored on class, spam on instance\n",
    "        self.spam = 77\n",
    "    def __len__(self):              # len here, else __getattr__ called with __len__\n",
    "        print(\"__len__: 42\")\n",
    "    def __getattr__(self, attr):    # Provide __str__ if asked, else dummy func \n",
    "        print(\"Getattr: \" + attr)\n",
    "        if attr == \"__str__\":\n",
    "            return lambda *args: \"[Getattr str]\"\n",
    "        else:\n",
    "            return lambda *args: None"
   ]
  },
  {
   "cell_type": "code",
   "execution_count": 1,
   "metadata": {},
   "outputs": [],
   "source": [
    "class GetAttribute(object):         # object required in 2.X, implied in 3.X\n",
    "    eggs = 88                       # In 2.X all are instances(object) auto\n",
    "    def __init__(self):             # But must derive to get new-style tools\n",
    "        self.spam = 77              # incl __getattribute__, some __X__ defaults\n",
    "    def __len__(self):\n",
    "        print(\"__len__: 42\")\n",
    "        return 42\n",
    "    def __getattribute__(self, attr):\n",
    "        if attr == \"__str__\":\n",
    "            return lambda *args: '[Get attribute str]'\n",
    "        else:\n",
    "            return lambda *args: None"
   ]
  },
  {
   "cell_type": "code",
   "execution_count": 5,
   "metadata": {},
   "outputs": [
    {
     "name": "stdout",
     "output_type": "stream",
     "text": [
      "\n",
      "GetAttr===========================================\n",
      "Getattr: other\n",
      "__len__: 42\n"
     ]
    },
    {
     "ename": "TypeError",
     "evalue": "'NoneType' object cannot be interpreted as an integer",
     "output_type": "error",
     "traceback": [
      "\u001b[0;31m---------------------------------------------------------------------------\u001b[0m",
      "\u001b[0;31mTypeError\u001b[0m                                 Traceback (most recent call last)",
      "Cell \u001b[0;32mIn[5], line 8\u001b[0m\n\u001b[1;32m      6\u001b[0m X\u001b[38;5;241m.\u001b[39mspam              \u001b[38;5;66;03m# Instance attr\u001b[39;00m\n\u001b[1;32m      7\u001b[0m X\u001b[38;5;241m.\u001b[39mother             \u001b[38;5;66;03m# Missing attr\u001b[39;00m\n\u001b[0;32m----> 8\u001b[0m \u001b[38;5;28;43mlen\u001b[39;49m\u001b[43m(\u001b[49m\u001b[43mX\u001b[49m\u001b[43m)\u001b[49m              \u001b[38;5;66;03m# __len__ defined explicitly\u001b[39;00m\n",
      "\u001b[0;31mTypeError\u001b[0m: 'NoneType' object cannot be interpreted as an integer"
     ]
    }
   ],
   "source": [
    "for Class in GetAttr, GetAttribute:\n",
    "    print(\"\\n\" + Class.__name__.ljust(50, '='))\n",
    "    \n",
    "    X = Class()\n",
    "    X.eggs              # Class attr\n",
    "    X.spam              # Instance attr\n",
    "    X.other             # Missing attr\n",
    "    len(X)              # __len__ defined explicitly"
   ]
  },
  {
   "cell_type": "code",
   "execution_count": null,
   "metadata": {},
   "outputs": [],
   "source": []
  }
 ],
 "metadata": {
  "kernelspec": {
   "display_name": "py3124",
   "language": "python",
   "name": "python3"
  },
  "language_info": {
   "codemirror_mode": {
    "name": "ipython",
    "version": 3
   },
   "file_extension": ".py",
   "mimetype": "text/x-python",
   "name": "python",
   "nbconvert_exporter": "python",
   "pygments_lexer": "ipython3",
   "version": "3.12.4"
  }
 },
 "nbformat": 4,
 "nbformat_minor": 2
}
