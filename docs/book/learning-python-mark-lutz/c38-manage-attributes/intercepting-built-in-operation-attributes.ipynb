{
 "cells": [
  {
   "cell_type": "markdown",
   "metadata": {},
   "source": [
    "# Intercepting Built-in Operation Attributes\n",
    "\n",
    "`__getattr__` and `__getattribute__` for method-name attributes implicitly fetch by built-in operations, these methods may *not be run at all*. This means that operator overloading calls cannot be delegated to wrapped objects unless wrapper classes somehow redefine these methods themselves.\n",
    "\n",
    "For example, attribute fetchs for the `__str__`, `__add__`, and `__getitem__` methods run implicitly by printing, + expressions, and indexing, respectively,are not routed to the generic attribute interception methods in 3.X. Specifically:\n",
    "\n",
    "- In Python 3.X, *neither*, `__getattr__` nor `__getattribute__` is run for such attributes.\n",
    "- In Python 2.X classic classes, `__getattr__` *is* run for such attributes if they are undefined in the class.\n",
    "- In Python 2.X, `__getattribute__` is available for new-style classes only and works as it does in 3.X.\n",
    "\n",
    "In all Python 3.X classes (and 2.X new-style classes), there is no direct way to generically intercept built-in operations like printing and addition.\n",
    "\n",
    "Wrapper classes can work around this constraint by redefining all relevant operator overloading methods in the wrapper itself, in order to delegate calls. These extra methods can be added either manually, with tools, or by definition in and inheritance from common superclasses. This does, however, make object wrappers more work then they used to be when operator overloading methods are a part of a wrapped object's interface.\n",
    "\n",
    "The following example, tests various attribute types and built-in operations on intances of classes containing `__getattr__` and `__getattribute__` methods:"
   ]
  },
  {
   "cell_type": "code",
   "execution_count": 6,
   "metadata": {},
   "outputs": [],
   "source": [
    "class GetAttr:\n",
    "    eggs = 88\n",
    "    def __init__(self):             # eggs stored on class, spam on instance\n",
    "        self.spam = 77\n",
    "    def __len__(self):              # len here, else __getattr__ called with __len__\n",
    "        print(\"__len__: 42\")\n",
    "        return 42\n",
    "    def __getattr__(self, attr):    # Provide __str__ if asked, else dummy func \n",
    "        print(\"Getattr: \" + attr)\n",
    "        if attr == \"__str__\":\n",
    "            return lambda *args: \"[Getattr str]\"\n",
    "        else:\n",
    "            return lambda *args: None"
   ]
  },
  {
   "cell_type": "code",
   "execution_count": 7,
   "metadata": {},
   "outputs": [],
   "source": [
    "class GetAttribute(object):         # object required in 2.X, implied in 3.X\n",
    "    eggs = 88                       # In 2.X all are instances(object) auto\n",
    "    def __init__(self):             # But must derive to get new-style tools\n",
    "        self.spam = 77              # incl __getattribute__, some __X__ defaults\n",
    "    def __len__(self):\n",
    "        print(\"__len__: 42\")\n",
    "        return 42\n",
    "    def __getattribute__(self, attr):\n",
    "        print(\"getattribute: \" + attr)\n",
    "        if attr == \"__str__\":\n",
    "            return lambda *args: '[Get attribute str]'\n",
    "        else:\n",
    "            return lambda *args: None"
   ]
  },
  {
   "cell_type": "code",
   "execution_count": 11,
   "metadata": {},
   "outputs": [
    {
     "name": "stdout",
     "output_type": "stream",
     "text": [
      "\n",
      "GetAttr===========================================\n",
      "Getattr: other\n",
      "__len__: 42\n",
      "fail []\n",
      "fail +\n",
      "fail ()\n",
      "Getattr: __call__\n",
      "<__main__.GetAttr object at 0x7af8d53007d0>\n",
      "<__main__.GetAttr object at 0x7af8d53007d0>\n",
      "\n",
      "GetAttribute======================================\n",
      "getattribute: eggs\n",
      "getattribute: spam\n",
      "getattribute: other\n",
      "__len__: 42\n",
      "fail []\n",
      "fail +\n",
      "fail ()\n",
      "getattribute: __call__\n",
      "getattribute: __str__\n",
      "[Get attribute str]\n",
      "<__main__.GetAttribute object at 0x7af8d5301df0>\n"
     ]
    }
   ],
   "source": [
    "for Class in GetAttr, GetAttribute:\n",
    "    print(\"\\n\" + Class.__name__.ljust(50, '='))\n",
    "    \n",
    "    X = Class()\n",
    "    X.eggs              # Class attr\n",
    "    X.spam              # Instance attr\n",
    "    X.other             # Missing attr\n",
    "    len(X)              # __len__ defined explicitly\n",
    "    \n",
    "    try: X[0]                       # __getitem__?\n",
    "    except: print('fail []')\n",
    "    \n",
    "    try: X+99                       # __add__?\n",
    "    except: print(\"fail +\")\n",
    "    \n",
    "    try: X()                        # __call__? (implicit via built-in)\n",
    "    except: print(\"fail ()\")\n",
    "    \n",
    "    X.__call__()                    # __call__? (explicit, not inherited)\n",
    "    print(X.__str__())              # __str__? (explicit, inherited from type)\n",
    "    print(X)                        # __str__? (implicit via built-in)"
   ]
  },
  {
   "cell_type": "markdown",
   "metadata": {},
   "source": [
    "Run on 3.X,\n",
    "\n",
    "Non of the implicitly run operator overloading methods trigger either attribute interception method when their attributes are fetched by built-in operations. \n",
    "\n",
    "Python 3.X skips the normal instance lookup mechanism when resolving such names, though normally named methods are still intercepted as before.\n",
    "\n",
    "Trace these outputs back to **prints** in the script to see how this works. Some highlights:\n",
    "\n",
    "- `__str__` access fails to be caught twice by `__getattr__` in 3.X: once for the built-in print, and once for explicit fetches because a default inherited from the class.\n",
    "- `__str__` fails to be caught only once by the `__getattribute__` catchall, during the built-in print operation; explicit fetches bypass the inherited version.\n",
    "- `__call__` fails to be caught in both schemes in 3.X for built-in call expressions, but it is intercepted by both when fetched expclicitly; unlike `__str__`, there is not inherited `__call__` default for **object** instances to defeat `__getattr__`."
   ]
  }
 ],
 "metadata": {
  "kernelspec": {
   "display_name": "py3124",
   "language": "python",
   "name": "python3"
  },
  "language_info": {
   "codemirror_mode": {
    "name": "ipython",
    "version": 3
   },
   "file_extension": ".py",
   "mimetype": "text/x-python",
   "name": "python",
   "nbconvert_exporter": "python",
   "pygments_lexer": "ipython3",
   "version": "3.12.4"
  }
 },
 "nbformat": 4,
 "nbformat_minor": 2
}
