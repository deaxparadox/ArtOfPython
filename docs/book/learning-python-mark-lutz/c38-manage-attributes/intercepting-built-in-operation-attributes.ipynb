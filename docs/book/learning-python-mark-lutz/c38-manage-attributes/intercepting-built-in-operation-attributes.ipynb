{
 "cells": [
  {
   "cell_type": "markdown",
   "metadata": {},
   "source": [
    "# Intercepting Built-in Operation Attributes\n",
    "\n",
    "`__getattr__` and `__getattribute__` for method-name attributes implicitly fetch by built-in operations, these methods may *not be run at all*. This means that operator overloading calls cannot be delegated to wrapped objects unless wrapper classes somehow redefine these methods themselves.\n",
    "\n",
    "For example, attribute fetchs for the `__str__`, `__add__`, and `__getitem__` methods run implicitly by printing, + expressions, and indexing, respectively,are not routed to the generic attribute interception methods in 3.X. Specifically:\n",
    "\n",
    "- In Python 3.X, *neither*, `__getattr__` nor `__getattribute__` is run for such attributes.\n",
    "- In Python 2.X classic classes, `__getattr__` *is* run for such attributes if they are undefined in the class.\n",
    "- In Python 2.X, `__getattribute__` is available for new-style classes only and works as it does in 3.X."
   ]
  },
  {
   "cell_type": "markdown",
   "metadata": {},
   "source": []
  }
 ],
 "metadata": {
  "language_info": {
   "name": "python"
  }
 },
 "nbformat": 4,
 "nbformat_minor": 2
}
