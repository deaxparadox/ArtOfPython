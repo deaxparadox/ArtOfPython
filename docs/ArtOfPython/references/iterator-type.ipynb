{
 "cells": [
  {
   "cell_type": "markdown",
   "metadata": {},
   "source": [
    "# Ieterator Types\n",
    "\n",
    "Python supports a concept of iteration over containers (class). This is implemented using tow distinct methods; these are used to allow user-defined classes to support iteration."
   ]
  }
 ],
 "metadata": {
  "language_info": {
   "name": "python"
  }
 },
 "nbformat": 4,
 "nbformat_minor": 2
}
