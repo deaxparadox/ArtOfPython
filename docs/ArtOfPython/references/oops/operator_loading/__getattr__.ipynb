{
 "cells": [
  {
   "cell_type": "markdown",
   "metadata": {},
   "source": [
    "# `__getattr__`"
   ]
  },
  {
   "cell_type": "code",
   "execution_count": 2,
   "metadata": {},
   "outputs": [],
   "source": [
    "class Catcher:\n",
    "    def __getattr__(self, name):\n",
    "        print(\"Get: %s\" % name)\n",
    "    def __setattr__(self, name, value):\n",
    "        print(\"Set: %s %s\" % (name , value))"
   ]
  },
  {
   "cell_type": "code",
   "execution_count": 3,
   "metadata": {},
   "outputs": [
    {
     "name": "stdout",
     "output_type": "stream",
     "text": [
      "Get: job\n",
      "Get: pay\n",
      "Set: pay 99\n"
     ]
    }
   ],
   "source": [
    "X = Catcher()\n",
    "X.job\n",
    "X.pay\n",
    "X.pay = 99"
   ]
  },
  {
   "cell_type": "markdown",
   "metadata": {},
   "source": []
  }
 ],
 "metadata": {
  "kernelspec": {
   "display_name": "py3124",
   "language": "python",
   "name": "python3"
  },
  "language_info": {
   "codemirror_mode": {
    "name": "ipython",
    "version": 3
   },
   "file_extension": ".py",
   "mimetype": "text/x-python",
   "name": "python",
   "nbconvert_exporter": "python",
   "pygments_lexer": "ipython3",
   "version": "3.12.4"
  }
 },
 "nbformat": 4,
 "nbformat_minor": 2
}
