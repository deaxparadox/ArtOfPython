{
 "cells": [
  {
   "cell_type": "markdown",
   "metadata": {},
   "source": [
    "# Class\n",
    "\n",
    "Classes are a wa to define new sorts of stuff, reflecting real objects in a program's domain. It allow us to bind together different attributes (variables and methods), which can be reused again and again, by instantiating the class, or inheriting the attribute in subclass."
   ]
  },
  {
   "cell_type": "markdown",
   "metadata": {},
   "source": [
    "Attribute of class can be fetch using the expression \n",
    "\n",
    "*`object.attribute`*\n",
    "\n",
    "The **object** can be the *instance* of the class or it can the *class* itself. We are going to see both the cases.\n",
    "\n",
    "The above expression kicks off the *search* in Python--it searches a tree of linked objects, looking for the first appearance of ***attribute*** that it can find."
   ]
  },
  {
   "cell_type": "markdown",
   "metadata": {},
   "source": [
    "##### Classes\n",
    "\n",
    "Serve as instance factories. Their attributes provide behavior--data and functions--that is inherited by all the instances generated from them.\n",
    "\n",
    "##### Instances\n",
    "\n",
    "Represent the concreate items in a program's domain. Their attributes record data that varies per specific object."
   ]
  }
 ],
 "metadata": {
  "language_info": {
   "name": "python"
  }
 },
 "nbformat": 4,
 "nbformat_minor": 2
}
